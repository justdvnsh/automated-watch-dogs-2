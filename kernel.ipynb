{
  "cells": [
    {
      "metadata": {
        "_uuid": "8f2839f25d086af736a60e9eeb907d3b93b6e0e5",
        "_cell_guid": "b1076dfc-b9ad-4769-8c92-a6c4dae69d19",
        "trusted": true
      },
      "cell_type": "code",
      "source": "# This Python 3 environment comes with many helpful analytics libraries installed\n# It is defined by the kaggle/python docker image: https://github.com/kaggle/docker-python\n# For example, here's several helpful packages to load in \n\nimport numpy as np # linear algebra\nimport pandas as pd # data processing, CSV file I/O (e.g. pd.read_csv)\n\n# Input data files are available in the \"../input/\" directory.\n# For example, running this (by clicking run or pressing Shift+Enter) will list the files in the input directory\n\nimport os\nprint(os.listdir(\"../input\"))\nimport cv2\n# set the matplotlib backend so figures can be saved in the background\nimport matplotlib .pyplot as plt\n# import the necessary packages\nfrom sklearn import svm\nfrom sklearn.preprocessing import LabelBinarizer\nfrom sklearn.preprocessing import LabelEncoder, OneHotEncoder\nfrom sklearn.model_selection import train_test_split\nfrom sklearn.metrics import classification_report, accuracy_score, confusion_matrix\nfrom keras.models import Sequential\nfrom keras.layers.core import Dense\nfrom keras.optimizers import SGD\nfrom keras.preprocessing.image import ImageDataGenerator\nfrom keras.layers.normalization import BatchNormalization\nfrom keras.layers.convolutional import Conv2D\nfrom keras.layers.convolutional import MaxPooling2D\nfrom keras.layers.core import Activation\nfrom keras.layers.core import Flatten\nfrom keras.layers.core import Dropout\nfrom keras import backend as K\nfrom keras.utils import to_categorical\nfrom keras.models import model_from_json\nimport random\n\n# Any results you write to the current directory are saved as output.",
      "execution_count": 138,
      "outputs": [
        {
          "output_type": "stream",
          "text": "['owncollection']\n",
          "name": "stdout"
        }
      ]
    },
    {
      "metadata": {
        "_cell_guid": "79c7e3d0-c299-4dcb-8224-4455121ee9b0",
        "_uuid": "d629ff2d2480ee46fbb7e2d37f6b5fab8052498a",
        "trusted": true
      },
      "cell_type": "code",
      "source": "data = []\nlabels = []\n\nfor paths, dirs,files in os.walk('../input/owncollection'):\n    imagesPath = sorted([images for images in files])\n    #print(imagesPath)\n    #print(paths)\n    for imagePath in imagesPath:\n        image = cv2.imread('../input/owncollection/OwnCollection/' + paths.split('/')[4] + '/' + paths.split('/')[5] + '/' + imagePath)\n        image = cv2.resize(image, (64,64)).flatten()\n        data.append(image)\n        labels.append(paths.split('/')[4])\n\nprint(len(data))\nprint(len(labels))",
      "execution_count": 45,
      "outputs": [
        {
          "output_type": "stream",
          "text": "7325\n7325\n",
          "name": "stdout"
        }
      ]
    },
    {
      "metadata": {
        "trusted": true,
        "_uuid": "f6e06f4c2c3cd0e84a2feae1220f7172cca6b3bf"
      },
      "cell_type": "code",
      "source": "data = np.array(data, dtype='float32') / 255.0\nlabels = np.array(labels)",
      "execution_count": 46,
      "outputs": []
    },
    {
      "metadata": {
        "trusted": true,
        "_uuid": "22ec3c69c684941401711b50422f734353aa4d06"
      },
      "cell_type": "code",
      "source": "data.shape",
      "execution_count": 47,
      "outputs": [
        {
          "output_type": "execute_result",
          "execution_count": 47,
          "data": {
            "text/plain": "(7325, 12288)"
          },
          "metadata": {}
        }
      ]
    },
    {
      "metadata": {
        "trusted": true,
        "_uuid": "577ebcdbf380de2f575b34038d2d7ac726c1c430"
      },
      "cell_type": "code",
      "source": "labels.shape",
      "execution_count": 48,
      "outputs": [
        {
          "output_type": "execute_result",
          "execution_count": 48,
          "data": {
            "text/plain": "(7325,)"
          },
          "metadata": {}
        }
      ]
    },
    {
      "metadata": {
        "trusted": true,
        "_uuid": "f2acc4fb350a2ce189fcd80f6254476a13a2a849"
      },
      "cell_type": "code",
      "source": "data[:100]",
      "execution_count": 49,
      "outputs": [
        {
          "output_type": "execute_result",
          "execution_count": 49,
          "data": {
            "text/plain": "array([[0.32941177, 0.35686275, 0.33333334, ..., 0.30980393, 0.34509805,\n        0.3137255 ],\n       [0.42745098, 0.4862745 , 0.45882353, ..., 0.37254903, 0.40784314,\n        0.3764706 ],\n       [0.35686275, 0.40392157, 0.3764706 , ..., 0.3019608 , 0.30588236,\n        0.24313726],\n       ...,\n       [0.41960785, 0.42745098, 0.4       , ..., 0.36078432, 0.37254903,\n        0.3254902 ],\n       [0.32941177, 0.30980393, 0.2627451 , ..., 0.25882354, 0.25490198,\n        0.19215687],\n       [0.28627452, 0.2627451 , 0.23137255, ..., 0.24705882, 0.23921569,\n        0.1882353 ]], dtype=float32)"
          },
          "metadata": {}
        }
      ]
    },
    {
      "metadata": {
        "trusted": true,
        "_uuid": "3e5c88d709f66d9b0e2503842d7af8fee1432df6"
      },
      "cell_type": "code",
      "source": "# partition the data into training and testing splits using 75% of\n# the data for training and the remaining 25% for testing\n(trainX, testX, trainY, testY) = train_test_split(data,labels, test_size=0.25, random_state=42)",
      "execution_count": 50,
      "outputs": []
    },
    {
      "metadata": {
        "trusted": true,
        "_uuid": "00b13d1a5f20f698c9a5e3618bfa9914216a77e3"
      },
      "cell_type": "code",
      "source": "trainY.shape",
      "execution_count": 51,
      "outputs": [
        {
          "output_type": "execute_result",
          "execution_count": 51,
          "data": {
            "text/plain": "(5493,)"
          },
          "metadata": {}
        }
      ]
    },
    {
      "metadata": {
        "trusted": true,
        "_uuid": "83f96caed09fa1556bb7cd0dbd8ade87181c33f6"
      },
      "cell_type": "code",
      "source": "testY.shape",
      "execution_count": 52,
      "outputs": [
        {
          "output_type": "execute_result",
          "execution_count": 52,
          "data": {
            "text/plain": "(1832,)"
          },
          "metadata": {}
        }
      ]
    },
    {
      "metadata": {
        "trusted": true,
        "_uuid": "495a35ec488db859221614058b824a9d3b123ee4"
      },
      "cell_type": "code",
      "source": "lb = LabelBinarizer()\ntrainY = lb.fit_transform(trainY)\ntestY = lb.transform(testY)",
      "execution_count": 53,
      "outputs": []
    },
    {
      "metadata": {
        "trusted": true,
        "_uuid": "3863835f4eed0da3f0a52274bd94ed913864ee44"
      },
      "cell_type": "code",
      "source": "trainY",
      "execution_count": 54,
      "outputs": [
        {
          "output_type": "execute_result",
          "execution_count": 54,
          "data": {
            "text/plain": "array([[0],\n       [1],\n       [0],\n       ...,\n       [1],\n       [0],\n       [1]])"
          },
          "metadata": {}
        }
      ]
    },
    {
      "metadata": {
        "trusted": true,
        "_uuid": "8d5552a1a361d38416363d2ac57fd344551a63e4"
      },
      "cell_type": "code",
      "source": "print(trainY.shape)\nprint(testY.shape)",
      "execution_count": 55,
      "outputs": [
        {
          "output_type": "stream",
          "text": "(5493, 1)\n(1832, 1)\n",
          "name": "stdout"
        }
      ]
    },
    {
      "metadata": {
        "_uuid": "139a2238e6ba5a6d9aab5bf928fbd7ec241b64f7"
      },
      "cell_type": "markdown",
      "source": "## First making a SVM classifier to predict the classes, since the SVM classifiers generally do better with HOG features, and since I am making this model to for detection of cars in a video, I will be making use of a kernel SVM."
    },
    {
      "metadata": {
        "trusted": true,
        "_uuid": "e3a505562f51c35bb2ae4e2ffcd8e619b1ff2342"
      },
      "cell_type": "code",
      "source": "clf = svm.SVC(kernel='rbf', gamma = 'auto',random_state=0)\nclf.fit(trainX, trainY)",
      "execution_count": 57,
      "outputs": [
        {
          "output_type": "stream",
          "text": "/opt/conda/lib/python3.6/site-packages/sklearn/utils/validation.py:761: DataConversionWarning: A column-vector y was passed when a 1d array was expected. Please change the shape of y to (n_samples, ), for example using ravel().\n  y = column_or_1d(y, warn=True)\n",
          "name": "stderr"
        },
        {
          "output_type": "execute_result",
          "execution_count": 57,
          "data": {
            "text/plain": "SVC(C=1.0, cache_size=200, class_weight=None, coef0=0.0,\n  decision_function_shape='ovr', degree=3, gamma='auto', kernel='rbf',\n  max_iter=-1, probability=False, random_state=0, shrinking=True,\n  tol=0.001, verbose=False)"
          },
          "metadata": {}
        }
      ]
    },
    {
      "metadata": {
        "trusted": true,
        "_uuid": "e83c426ecfcbb4ae6f49b03be9045ce39b2164a9"
      },
      "cell_type": "code",
      "source": "image = cv2.imread('../input/owncollection/OwnCollection/vehicles/Right/image0001.png')\nimage = cv2.resize(image, (64,64)).flatten()\nimage = image.astype('float') / 255\nimage = image.reshape((1, image.shape[0]))\nimage.shape",
      "execution_count": 78,
      "outputs": [
        {
          "output_type": "execute_result",
          "execution_count": 78,
          "data": {
            "text/plain": "(1, 12288)"
          },
          "metadata": {}
        }
      ]
    },
    {
      "metadata": {
        "trusted": true,
        "_uuid": "7c83d1e79fc132f9409097c42e91c719a9d39ca9"
      },
      "cell_type": "code",
      "source": "preds = clf.predict(image)\nprint(preds)\nlabel = lb.classes_[preds]\nprint(label)",
      "execution_count": 79,
      "outputs": [
        {
          "output_type": "stream",
          "text": "[1]\n['vehicles']\n",
          "name": "stdout"
        }
      ]
    },
    {
      "metadata": {
        "trusted": true,
        "_uuid": "7c0c513cd30df35ec16cfa54388f62b5ab8f4e39"
      },
      "cell_type": "code",
      "source": "y_pred = clf.predict(testX)",
      "execution_count": 80,
      "outputs": []
    },
    {
      "metadata": {
        "trusted": true,
        "_uuid": "e43b18310ca94df119fa71c1796c6053e919fd95"
      },
      "cell_type": "code",
      "source": "y_pred.shape",
      "execution_count": 83,
      "outputs": [
        {
          "output_type": "execute_result",
          "execution_count": 83,
          "data": {
            "text/plain": "(1832,)"
          },
          "metadata": {}
        }
      ]
    },
    {
      "metadata": {
        "trusted": true,
        "_uuid": "27ba3e3f36f6e64fff1e9bf13dcdbd7bf8c525bf"
      },
      "cell_type": "code",
      "source": "y_pred[:10]",
      "execution_count": 84,
      "outputs": [
        {
          "output_type": "execute_result",
          "execution_count": 84,
          "data": {
            "text/plain": "array([1, 0, 1, 1, 0, 1, 1, 1, 0, 1])"
          },
          "metadata": {}
        }
      ]
    },
    {
      "metadata": {
        "trusted": true,
        "_uuid": "7c04e5249d5c61eb8416066843aeb1ddb2902fd7"
      },
      "cell_type": "code",
      "source": "cm = confusion_matrix(testY, y_pred)\nprint(cm)",
      "execution_count": 85,
      "outputs": [
        {
          "output_type": "stream",
          "text": "[[886  88]\n [ 83 775]]\n",
          "name": "stdout"
        }
      ]
    },
    {
      "metadata": {
        "trusted": true,
        "_uuid": "c5f27ad5c081fcca1f40505885a416e6171e4013"
      },
      "cell_type": "code",
      "source": "score = accuracy_score(testY, y_pred)",
      "execution_count": 86,
      "outputs": []
    },
    {
      "metadata": {
        "trusted": true,
        "_uuid": "feaa49c29c2975ed4bf23a2d17a56c3fd4692141"
      },
      "cell_type": "code",
      "source": "score",
      "execution_count": 87,
      "outputs": [
        {
          "output_type": "execute_result",
          "execution_count": 87,
          "data": {
            "text/plain": "0.9066593886462883"
          },
          "metadata": {}
        }
      ]
    },
    {
      "metadata": {
        "_uuid": "a71150e7dfcaf3ce9e135a1119bdc808dc383186"
      },
      "cell_type": "markdown",
      "source": "## So , as seen, we get a whopping 90% score on the model , which is pretty descent for a classifier\n\n---\n\n## Now , I'll be using a CNN for the same task, which is my simple version of the VGG - CNN architechture ."
    },
    {
      "metadata": {
        "trusted": true,
        "_uuid": "2366d7e5f573542bf15c4a977eced4f7dcc8fa85"
      },
      "cell_type": "code",
      "source": "class SmallVGGNet:\n    @staticmethod\n    def build(width, height, depth, classes):\n        # initialize the model along with the input shape to be\n        # \"channels last\" and the channels dimension itself\n        model = Sequential()\n        inputShape = (height, width, depth)\n        chanDim = -1\n        \n        # If the we are using 'channels first', then we need to update the input shape\n        # and channels dimentions\n        if K.image_data_format() == 'channels_first':\n            inputShape = (depth, height, width)\n            chanDim = 1\n            \n        model.add(Conv2D(32, (3,3), padding = 'same' ,input_shape = inputShape))\n        model.add(Activation('relu'))\n        ## To normalize the data along the channel dimention, to reduce training time and stabilize\n        ## the network.\n        model.add(BatchNormalization(axis=chanDim))\n        model.add(MaxPooling2D(pool_size=(2, 2)))\n        model.add(Dropout(0.25))\n        \n        # (CONV => RELU) * 2 => POOL layer set\n        model.add(Conv2D(64, (3, 3), padding=\"same\"))\n        model.add(Activation(\"relu\"))\n        model.add(BatchNormalization(axis=chanDim))\n        model.add(Conv2D(64, (3, 3), padding=\"same\"))\n        model.add(Activation(\"relu\"))\n        model.add(BatchNormalization(axis=chanDim))\n        model.add(MaxPooling2D(pool_size=(2, 2)))\n        model.add(Dropout(0.25))\n        \n        # (CONV => RELU) * 3 => POOL layer set\n        model.add(Conv2D(128, (3, 3), padding=\"same\"))\n        model.add(Activation(\"relu\"))\n        model.add(BatchNormalization(axis=chanDim))\n        model.add(Conv2D(128, (3, 3), padding=\"same\"))\n        model.add(Activation(\"relu\"))\n        model.add(BatchNormalization(axis=chanDim))\n        model.add(Conv2D(128, (3, 3), padding=\"same\"))\n        model.add(Activation(\"relu\"))\n        model.add(BatchNormalization(axis=chanDim))\n        model.add(MaxPooling2D(pool_size=(2, 2)))\n        model.add(Dropout(0.25))\n        \n        # first (and only) set of FC => RELU layers\n        model.add(Flatten())\n        model.add(Dense(512))\n        model.add(Activation(\"relu\"))\n        model.add(BatchNormalization())\n        model.add(Dropout(0.5))\n\n        # softmax classifier\n        model.add(Dense(classes))\n        model.add(Activation(\"softmax\"))\n\n        # return the constructed network architecture\n        return model",
      "execution_count": 88,
      "outputs": []
    },
    {
      "metadata": {
        "trusted": true,
        "_uuid": "a4de20a91cad7f95bdc93a9bd93d2817cbfb10f7"
      },
      "cell_type": "code",
      "source": "data = []\nlabels = []\n\nfor paths, dirs,files in os.walk('../input/owncollection'):\n    imagesPath = sorted([images for images in files])\n    #print(imagesPath)\n    #print(paths)\n    for imagePath in imagesPath:\n        image = cv2.imread('../input/owncollection/OwnCollection/' + paths.split('/')[4] + '/' + paths.split('/')[5] + '/' + imagePath)\n        image = cv2.resize(image, (64,64))\n        data.append(image)\n        labels.append(paths.split('/')[4])\n\nprint(len(data))\nprint(len(labels))\n\n",
      "execution_count": 113,
      "outputs": [
        {
          "output_type": "stream",
          "text": "7325\n7325\n",
          "name": "stdout"
        }
      ]
    },
    {
      "metadata": {
        "trusted": true,
        "_uuid": "fd626867c2fadd60fab5314cbccbb85f495bc0b0"
      },
      "cell_type": "code",
      "source": "data[:3]",
      "execution_count": 114,
      "outputs": [
        {
          "output_type": "execute_result",
          "execution_count": 114,
          "data": {
            "text/plain": "[array([[[ 84,  91,  85],\n         [ 87,  94,  86],\n         [ 86,  93,  87],\n         ...,\n         [ 91, 103,  94],\n         [ 92, 102,  95],\n         [ 93, 101,  97]],\n \n        [[ 84,  91,  84],\n         [ 86,  93,  85],\n         [ 84,  91,  84],\n         ...,\n         [ 93, 105,  95],\n         [ 93, 103,  95],\n         [ 93, 102,  96]],\n \n        [[ 84,  91,  84],\n         [ 84,  91,  83],\n         [ 82,  89,  82],\n         ...,\n         [ 93, 105,  96],\n         [ 94, 104,  96],\n         [ 94, 103,  96]],\n \n        ...,\n \n        [[ 79,  83,  78],\n         [ 79,  83,  78],\n         [ 79,  83,  78],\n         ...,\n         [ 79,  89,  80],\n         [ 79,  89,  80],\n         [ 81,  91,  83]],\n \n        [[ 82,  86,  81],\n         [ 82,  86,  81],\n         [ 80,  84,  79],\n         ...,\n         [ 81,  90,  81],\n         [ 79,  89,  79],\n         [ 80,  90,  80]],\n \n        [[ 82,  86,  81],\n         [ 81,  85,  80],\n         [ 80,  84,  79],\n         ...,\n         [ 81,  90,  81],\n         [ 80,  89,  81],\n         [ 79,  88,  80]]], dtype=uint8), array([[[109, 124, 117],\n         [108, 123, 117],\n         [113, 127, 126],\n         ...,\n         [105, 116, 109],\n         [103, 115, 108],\n         [102, 116, 109]],\n \n        [[113, 126, 122],\n         [112, 126, 125],\n         [108, 121, 124],\n         ...,\n         [105, 115, 108],\n         [105, 117, 110],\n         [102, 115, 108]],\n \n        [[111, 124, 124],\n         [106, 121, 121],\n         [103, 119, 123],\n         ...,\n         [103, 112, 106],\n         [106, 116, 109],\n         [104, 114, 108]],\n \n        ...,\n \n        [[101, 108, 102],\n         [ 99, 108, 103],\n         [101, 110, 103],\n         ...,\n         [ 94, 103,  96],\n         [ 95, 104,  96],\n         [ 96, 106,  96]],\n \n        [[102, 111, 104],\n         [101, 110, 104],\n         [104, 113, 105],\n         ...,\n         [ 96, 105,  98],\n         [ 96, 106,  97],\n         [ 95, 105,  96]],\n \n        [[102, 111, 104],\n         [103, 112, 106],\n         [105, 114, 107],\n         ...,\n         [ 97, 106,  98],\n         [ 96, 106,  97],\n         [ 95, 104,  96]]], dtype=uint8), array([[[ 91, 103,  96],\n         [ 91, 103,  96],\n         [ 91, 102,  97],\n         ...,\n         [ 60,  62,  52],\n         [ 62,  64,  53],\n         [ 62,  64,  52]],\n \n        [[ 91, 103,  96],\n         [ 90, 103,  96],\n         [ 88,  99,  94],\n         ...,\n         [ 60,  61,  52],\n         [ 62,  63,  53],\n         [ 62,  64,  54]],\n \n        [[ 92, 104,  97],\n         [ 91, 103,  96],\n         [ 87,  98,  92],\n         ...,\n         [ 59,  60,  51],\n         [ 61,  62,  53],\n         [ 63,  64,  55]],\n \n        ...,\n \n        [[ 97, 104,  99],\n         [ 94, 102,  96],\n         [ 93, 102,  93],\n         ...,\n         [ 82,  81,  71],\n         [ 81,  82,  69],\n         [ 81,  81,  71]],\n \n        [[ 98, 104, 100],\n         [ 94, 102,  96],\n         [ 94, 103,  94],\n         ...,\n         [ 79,  77,  70],\n         [ 81,  80,  70],\n         [ 81,  81,  68]],\n \n        [[ 93, 100,  95],\n         [ 91,  98,  92],\n         [ 93, 100,  93],\n         ...,\n         [ 76,  72,  67],\n         [ 77,  76,  65],\n         [ 77,  78,  62]]], dtype=uint8)]"
          },
          "metadata": {}
        }
      ]
    },
    {
      "metadata": {
        "trusted": true,
        "_uuid": "538a9983b8920d64e3b5a4c9b349e4e7c01c9a0f"
      },
      "cell_type": "code",
      "source": "data = np.array(data, dtype='float32') / 255.0\n# since the pixel intensities lies from 0 to 255, thus we normalized the data to 0 to 1\nlabels = np.array(labels)\nprint(data.shape)\nprint(labels.shape)",
      "execution_count": 115,
      "outputs": [
        {
          "output_type": "stream",
          "text": "(7325, 64, 64, 3)\n(7325,)\n",
          "name": "stdout"
        }
      ]
    },
    {
      "metadata": {
        "trusted": true,
        "_uuid": "323c79b3b68708ae8922749a3486376161739524"
      },
      "cell_type": "code",
      "source": "# partition the data into training and testing splits using 75% of\n# the data for training and the remaining 25% for testing\n(trainX, testX, trainY, testY) = train_test_split(data,labels, test_size=0.25, random_state=42)",
      "execution_count": 116,
      "outputs": []
    },
    {
      "metadata": {
        "trusted": true,
        "_uuid": "f9d28a59d918a1cda56f9f1d65bd4e27ebebbc89"
      },
      "cell_type": "code",
      "source": "## Here We are just doing the one-hot encoding for the labels.\nlabelencoder_y_1 = LabelEncoder()\ntrainY = labelencoder_y_1.fit_transform(trainY)\ntestY = labelencoder_y_1.transform(testY)",
      "execution_count": 119,
      "outputs": []
    },
    {
      "metadata": {
        "trusted": true,
        "_uuid": "99e4b59c5d8b9c8c166503b1df961e124a833d78"
      },
      "cell_type": "code",
      "source": "print(trainY.shape, testY.shape)\n# construct the image generator for data augmentation\n# construct the image generator for data augmentation\naug = ImageDataGenerator(rotation_range=30, width_shift_range=0.1,\n                        height_shift_range=0.1, shear_range=0.2, zoom_range=0.2,\n                        horizontal_flip=True, fill_mode=\"nearest\")\n \n\"\"\"\nImage augmentation allows us to construct “additional” training data from our existing training data by randomly rotating, shifting, shearing, zooming, and flipping.\n\nData augmentation is often a critical step to:\n\n1) Avoiding overfitting\n2) Ensuring your model generalizes well\n\"\"\"\n    \n# initialize our VGG-like Convolutional Neural Network\nmodel = SmallVGGNet.build(width=64, height=64, depth=3,classes=len(labelencoder_y_1.classes_))",
      "execution_count": 121,
      "outputs": [
        {
          "output_type": "stream",
          "text": "(5493,) (1832,)\n",
          "name": "stdout"
        }
      ]
    },
    {
      "metadata": {
        "trusted": true,
        "_uuid": "c0cc8b3e8e5e8d636d9988a4a6eb1675e57a86ad"
      },
      "cell_type": "code",
      "source": "# initialize our initial learning rate, # of epochs to train for,\n# and batch size\nINIT_LR = 0.01\nEPOCHS = 100\nBS = 32\n# initialize the model and optimizer \nprint(\"[INFO] training network...\")\nopt = SGD(lr=INIT_LR, decay=INIT_LR / EPOCHS)\nmodel.compile(loss=\"sparse_categorical_crossentropy\", optimizer=opt,metrics=[\"accuracy\"])\n\n# train the network\nh = model.fit_generator(aug.flow(trainX, trainY, batch_size=BS),\n                                validation_data=(testX, testY), \n                                steps_per_epoch=len(trainX) // BS,\n                                epochs=EPOCHS)",
      "execution_count": 125,
      "outputs": [
        {
          "output_type": "stream",
          "text": "[INFO] training network...\nEpoch 1/100\n171/171 [==============================] - 12s 71ms/step - loss: 0.2169 - acc: 0.9237 - val_loss: 0.8661 - val_acc: 0.7162\nEpoch 2/100\n171/171 [==============================] - 11s 62ms/step - loss: 0.1664 - acc: 0.9386 - val_loss: 0.6457 - val_acc: 0.7303\nEpoch 3/100\n171/171 [==============================] - 10s 60ms/step - loss: 0.1352 - acc: 0.9477 - val_loss: 0.1453 - val_acc: 0.9492\nEpoch 4/100\n171/171 [==============================] - 10s 60ms/step - loss: 0.1232 - acc: 0.9564 - val_loss: 0.6589 - val_acc: 0.7817\nEpoch 5/100\n171/171 [==============================] - 10s 60ms/step - loss: 0.1070 - acc: 0.9587 - val_loss: 0.0600 - val_acc: 0.9771\nEpoch 6/100\n171/171 [==============================] - 10s 60ms/step - loss: 0.1064 - acc: 0.9635 - val_loss: 0.0854 - val_acc: 0.9700\nEpoch 7/100\n171/171 [==============================] - 11s 63ms/step - loss: 0.0889 - acc: 0.9687 - val_loss: 0.0697 - val_acc: 0.9771\nEpoch 8/100\n171/171 [==============================] - 10s 60ms/step - loss: 0.0789 - acc: 0.9692 - val_loss: 0.0353 - val_acc: 0.9869\nEpoch 9/100\n171/171 [==============================] - 10s 60ms/step - loss: 0.0787 - acc: 0.9698 - val_loss: 0.0395 - val_acc: 0.9853\nEpoch 10/100\n171/171 [==============================] - 10s 60ms/step - loss: 0.0823 - acc: 0.9701 - val_loss: 0.0746 - val_acc: 0.9749\nEpoch 11/100\n171/171 [==============================] - 10s 60ms/step - loss: 0.0697 - acc: 0.9737 - val_loss: 0.5335 - val_acc: 0.8259\nEpoch 12/100\n171/171 [==============================] - 10s 61ms/step - loss: 0.0719 - acc: 0.9713 - val_loss: 0.0610 - val_acc: 0.9776\nEpoch 13/100\n171/171 [==============================] - 10s 60ms/step - loss: 0.0701 - acc: 0.9763 - val_loss: 0.0893 - val_acc: 0.9683\nEpoch 14/100\n171/171 [==============================] - 10s 60ms/step - loss: 0.0631 - acc: 0.9751 - val_loss: 0.2146 - val_acc: 0.9170\nEpoch 15/100\n171/171 [==============================] - 10s 60ms/step - loss: 0.0611 - acc: 0.9773 - val_loss: 0.2641 - val_acc: 0.9165\nEpoch 16/100\n171/171 [==============================] - 10s 60ms/step - loss: 0.0580 - acc: 0.9776 - val_loss: 0.0438 - val_acc: 0.9869\nEpoch 17/100\n171/171 [==============================] - 10s 60ms/step - loss: 0.0611 - acc: 0.9796 - val_loss: 0.0271 - val_acc: 0.9902\nEpoch 18/100\n171/171 [==============================] - 10s 59ms/step - loss: 0.0550 - acc: 0.9806 - val_loss: 0.4267 - val_acc: 0.8641\nEpoch 19/100\n171/171 [==============================] - 10s 59ms/step - loss: 0.0589 - acc: 0.9784 - val_loss: 0.0217 - val_acc: 0.9924\nEpoch 20/100\n171/171 [==============================] - 10s 60ms/step - loss: 0.0516 - acc: 0.9821 - val_loss: 0.0374 - val_acc: 0.9885\nEpoch 21/100\n171/171 [==============================] - 10s 59ms/step - loss: 0.0556 - acc: 0.9788 - val_loss: 0.0440 - val_acc: 0.9820\nEpoch 22/100\n171/171 [==============================] - 10s 59ms/step - loss: 0.0650 - acc: 0.9763 - val_loss: 0.0724 - val_acc: 0.9727\nEpoch 23/100\n171/171 [==============================] - 10s 59ms/step - loss: 0.0480 - acc: 0.9832 - val_loss: 0.0291 - val_acc: 0.9924\nEpoch 24/100\n171/171 [==============================] - 10s 59ms/step - loss: 0.0471 - acc: 0.9830 - val_loss: 0.0383 - val_acc: 0.9853\nEpoch 25/100\n171/171 [==============================] - 10s 59ms/step - loss: 0.0365 - acc: 0.9878 - val_loss: 0.0358 - val_acc: 0.9891\nEpoch 26/100\n171/171 [==============================] - 10s 59ms/step - loss: 0.0506 - acc: 0.9806 - val_loss: 0.0499 - val_acc: 0.9831\nEpoch 27/100\n171/171 [==============================] - 10s 60ms/step - loss: 0.0410 - acc: 0.9854 - val_loss: 0.0974 - val_acc: 0.9607\nEpoch 28/100\n171/171 [==============================] - 10s 60ms/step - loss: 0.0420 - acc: 0.9839 - val_loss: 0.0311 - val_acc: 0.9902\nEpoch 29/100\n171/171 [==============================] - 10s 61ms/step - loss: 0.0424 - acc: 0.9847 - val_loss: 0.0660 - val_acc: 0.9765\nEpoch 30/100\n171/171 [==============================] - 10s 58ms/step - loss: 0.0477 - acc: 0.9834 - val_loss: 0.0185 - val_acc: 0.9924\nEpoch 31/100\n171/171 [==============================] - 10s 58ms/step - loss: 0.0469 - acc: 0.9839 - val_loss: 0.0189 - val_acc: 0.9940\nEpoch 32/100\n171/171 [==============================] - 10s 60ms/step - loss: 0.0420 - acc: 0.9843 - val_loss: 0.0246 - val_acc: 0.9924\nEpoch 33/100\n171/171 [==============================] - 10s 58ms/step - loss: 0.0446 - acc: 0.9835 - val_loss: 0.0222 - val_acc: 0.9918\nEpoch 34/100\n171/171 [==============================] - 10s 58ms/step - loss: 0.0390 - acc: 0.9854 - val_loss: 0.0272 - val_acc: 0.9918\nEpoch 35/100\n171/171 [==============================] - 10s 58ms/step - loss: 0.0427 - acc: 0.9847 - val_loss: 0.0198 - val_acc: 0.9951\nEpoch 36/100\n171/171 [==============================] - 10s 58ms/step - loss: 0.0425 - acc: 0.9854 - val_loss: 0.0601 - val_acc: 0.9782\nEpoch 37/100\n171/171 [==============================] - 10s 60ms/step - loss: 0.0400 - acc: 0.9861 - val_loss: 0.0518 - val_acc: 0.9831\nEpoch 38/100\n171/171 [==============================] - 10s 58ms/step - loss: 0.0384 - acc: 0.9859 - val_loss: 0.0203 - val_acc: 0.9951\nEpoch 39/100\n171/171 [==============================] - 10s 58ms/step - loss: 0.0419 - acc: 0.9832 - val_loss: 0.0413 - val_acc: 0.9864\nEpoch 40/100\n171/171 [==============================] - 10s 58ms/step - loss: 0.0354 - acc: 0.9865 - val_loss: 0.0249 - val_acc: 0.9929\nEpoch 41/100\n171/171 [==============================] - 10s 58ms/step - loss: 0.0379 - acc: 0.9875 - val_loss: 0.0498 - val_acc: 0.9842\nEpoch 42/100\n171/171 [==============================] - 10s 58ms/step - loss: 0.0412 - acc: 0.9848 - val_loss: 0.0298 - val_acc: 0.9913\nEpoch 43/100\n171/171 [==============================] - 10s 58ms/step - loss: 0.0283 - acc: 0.9883 - val_loss: 0.0732 - val_acc: 0.9711\nEpoch 44/100\n171/171 [==============================] - 10s 58ms/step - loss: 0.0281 - acc: 0.9907 - val_loss: 0.0198 - val_acc: 0.9934\nEpoch 45/100\n171/171 [==============================] - 10s 58ms/step - loss: 0.0283 - acc: 0.9894 - val_loss: 0.0147 - val_acc: 0.9973\nEpoch 46/100\n171/171 [==============================] - 10s 58ms/step - loss: 0.0376 - acc: 0.9869 - val_loss: 0.0265 - val_acc: 0.9891\nEpoch 47/100\n171/171 [==============================] - 10s 59ms/step - loss: 0.0297 - acc: 0.9896 - val_loss: 0.0268 - val_acc: 0.9918\nEpoch 48/100\n171/171 [==============================] - 10s 58ms/step - loss: 0.0321 - acc: 0.9889 - val_loss: 0.0496 - val_acc: 0.9809\nEpoch 49/100\n171/171 [==============================] - 10s 58ms/step - loss: 0.0290 - acc: 0.9898 - val_loss: 0.0262 - val_acc: 0.9918\nEpoch 50/100\n171/171 [==============================] - 10s 58ms/step - loss: 0.0292 - acc: 0.9902 - val_loss: 0.0433 - val_acc: 0.9853\nEpoch 51/100\n171/171 [==============================] - 10s 58ms/step - loss: 0.0301 - acc: 0.9894 - val_loss: 0.0365 - val_acc: 0.9853\nEpoch 52/100\n171/171 [==============================] - 10s 59ms/step - loss: 0.0317 - acc: 0.9889 - val_loss: 0.0509 - val_acc: 0.9831\nEpoch 53/100\n171/171 [==============================] - 10s 58ms/step - loss: 0.0341 - acc: 0.9883 - val_loss: 0.0310 - val_acc: 0.9896\nEpoch 54/100\n171/171 [==============================] - 10s 58ms/step - loss: 0.0328 - acc: 0.9868 - val_loss: 0.0151 - val_acc: 0.9956\nEpoch 55/100\n171/171 [==============================] - 10s 58ms/step - loss: 0.0307 - acc: 0.9882 - val_loss: 0.0657 - val_acc: 0.9793\nEpoch 56/100\n171/171 [==============================] - 10s 58ms/step - loss: 0.0334 - acc: 0.9872 - val_loss: 0.0300 - val_acc: 0.9902\nEpoch 57/100\n171/171 [==============================] - 10s 59ms/step - loss: 0.0288 - acc: 0.9906 - val_loss: 0.0251 - val_acc: 0.9913\nEpoch 58/100\n171/171 [==============================] - 10s 58ms/step - loss: 0.0309 - acc: 0.9903 - val_loss: 0.0305 - val_acc: 0.9924\nEpoch 59/100\n171/171 [==============================] - 10s 59ms/step - loss: 0.0294 - acc: 0.9891 - val_loss: 0.0284 - val_acc: 0.9934\nEpoch 60/100\n171/171 [==============================] - 10s 61ms/step - loss: 0.0236 - acc: 0.9919 - val_loss: 0.0287 - val_acc: 0.9934\nEpoch 61/100\n",
          "name": "stdout"
        },
        {
          "output_type": "stream",
          "text": "171/171 [==============================] - 10s 58ms/step - loss: 0.0214 - acc: 0.9923 - val_loss: 0.0393 - val_acc: 0.9885\nEpoch 62/100\n171/171 [==============================] - 10s 60ms/step - loss: 0.0281 - acc: 0.9898 - val_loss: 0.0342 - val_acc: 0.9907\nEpoch 63/100\n171/171 [==============================] - 10s 59ms/step - loss: 0.0296 - acc: 0.9889 - val_loss: 0.0381 - val_acc: 0.9874\nEpoch 64/100\n171/171 [==============================] - 10s 58ms/step - loss: 0.0342 - acc: 0.9865 - val_loss: 0.0624 - val_acc: 0.9798\nEpoch 65/100\n171/171 [==============================] - 10s 58ms/step - loss: 0.0235 - acc: 0.9914 - val_loss: 0.0207 - val_acc: 0.9956\nEpoch 66/100\n171/171 [==============================] - 10s 58ms/step - loss: 0.0316 - acc: 0.9888 - val_loss: 0.0241 - val_acc: 0.9918\nEpoch 67/100\n171/171 [==============================] - 10s 59ms/step - loss: 0.0235 - acc: 0.9923 - val_loss: 0.0276 - val_acc: 0.9896\nEpoch 68/100\n171/171 [==============================] - 10s 60ms/step - loss: 0.0291 - acc: 0.9901 - val_loss: 0.0471 - val_acc: 0.9831\nEpoch 69/100\n171/171 [==============================] - 10s 58ms/step - loss: 0.0266 - acc: 0.9909 - val_loss: 0.0292 - val_acc: 0.9907\nEpoch 70/100\n171/171 [==============================] - 10s 58ms/step - loss: 0.0267 - acc: 0.9907 - val_loss: 0.0283 - val_acc: 0.9918\nEpoch 71/100\n171/171 [==============================] - 10s 58ms/step - loss: 0.0223 - acc: 0.9929 - val_loss: 0.0335 - val_acc: 0.9907\nEpoch 72/100\n171/171 [==============================] - 10s 59ms/step - loss: 0.0224 - acc: 0.9933 - val_loss: 0.0335 - val_acc: 0.9907\nEpoch 73/100\n171/171 [==============================] - 10s 58ms/step - loss: 0.0223 - acc: 0.9931 - val_loss: 0.0463 - val_acc: 0.9847\nEpoch 74/100\n171/171 [==============================] - 10s 58ms/step - loss: 0.0241 - acc: 0.9916 - val_loss: 0.0495 - val_acc: 0.9913\nEpoch 75/100\n171/171 [==============================] - 10s 58ms/step - loss: 0.0257 - acc: 0.9902 - val_loss: 0.0680 - val_acc: 0.9858\nEpoch 76/100\n171/171 [==============================] - 10s 58ms/step - loss: 0.0257 - acc: 0.9918 - val_loss: 0.0357 - val_acc: 0.9885\nEpoch 77/100\n171/171 [==============================] - 10s 59ms/step - loss: 0.0189 - acc: 0.9921 - val_loss: 0.0291 - val_acc: 0.9918\nEpoch 78/100\n171/171 [==============================] - 10s 58ms/step - loss: 0.0271 - acc: 0.9899 - val_loss: 0.0316 - val_acc: 0.9929\nEpoch 79/100\n171/171 [==============================] - 10s 58ms/step - loss: 0.0212 - acc: 0.9921 - val_loss: 0.0427 - val_acc: 0.9847\nEpoch 80/100\n171/171 [==============================] - 10s 58ms/step - loss: 0.0206 - acc: 0.9921 - val_loss: 0.0515 - val_acc: 0.9929\nEpoch 81/100\n171/171 [==============================] - 10s 58ms/step - loss: 0.0295 - acc: 0.9892 - val_loss: 0.0610 - val_acc: 0.9847\nEpoch 82/100\n171/171 [==============================] - 10s 59ms/step - loss: 0.0250 - acc: 0.9913 - val_loss: 0.0380 - val_acc: 0.9891\nEpoch 83/100\n171/171 [==============================] - 10s 58ms/step - loss: 0.0286 - acc: 0.9885 - val_loss: 0.0392 - val_acc: 0.9918\nEpoch 84/100\n171/171 [==============================] - 10s 58ms/step - loss: 0.0285 - acc: 0.9907 - val_loss: 0.0327 - val_acc: 0.9924\nEpoch 85/100\n171/171 [==============================] - 10s 58ms/step - loss: 0.0202 - acc: 0.9927 - val_loss: 0.0368 - val_acc: 0.9902\nEpoch 86/100\n171/171 [==============================] - 10s 58ms/step - loss: 0.0153 - acc: 0.9944 - val_loss: 0.0173 - val_acc: 0.9940\nEpoch 87/100\n171/171 [==============================] - 10s 59ms/step - loss: 0.0267 - acc: 0.9899 - val_loss: 0.0178 - val_acc: 0.9934\nEpoch 88/100\n171/171 [==============================] - 10s 58ms/step - loss: 0.0196 - acc: 0.9940 - val_loss: 0.0233 - val_acc: 0.9918\nEpoch 89/100\n171/171 [==============================] - 10s 58ms/step - loss: 0.0241 - acc: 0.9914 - val_loss: 0.0345 - val_acc: 0.9858\nEpoch 90/100\n171/171 [==============================] - 10s 59ms/step - loss: 0.0206 - acc: 0.9923 - val_loss: 0.0147 - val_acc: 0.9951\nEpoch 91/100\n171/171 [==============================] - 10s 61ms/step - loss: 0.0211 - acc: 0.9927 - val_loss: 0.0263 - val_acc: 0.9907\nEpoch 92/100\n171/171 [==============================] - 10s 59ms/step - loss: 0.0212 - acc: 0.9929 - val_loss: 0.0297 - val_acc: 0.9891\nEpoch 93/100\n171/171 [==============================] - 10s 58ms/step - loss: 0.0192 - acc: 0.9929 - val_loss: 0.0218 - val_acc: 0.9918\nEpoch 94/100\n171/171 [==============================] - 10s 58ms/step - loss: 0.0199 - acc: 0.9920 - val_loss: 0.0302 - val_acc: 0.9902\nEpoch 95/100\n171/171 [==============================] - 10s 58ms/step - loss: 0.0163 - acc: 0.9927 - val_loss: 0.0239 - val_acc: 0.9924\nEpoch 96/100\n171/171 [==============================] - 10s 58ms/step - loss: 0.0185 - acc: 0.9931 - val_loss: 0.0210 - val_acc: 0.9929\nEpoch 97/100\n171/171 [==============================] - 10s 59ms/step - loss: 0.0268 - acc: 0.9894 - val_loss: 0.0320 - val_acc: 0.9880\nEpoch 98/100\n171/171 [==============================] - 10s 59ms/step - loss: 0.0200 - acc: 0.9929 - val_loss: 0.0196 - val_acc: 0.9913\nEpoch 99/100\n171/171 [==============================] - 10s 59ms/step - loss: 0.0198 - acc: 0.9929 - val_loss: 0.0185 - val_acc: 0.9940\nEpoch 100/100\n171/171 [==============================] - 10s 58ms/step - loss: 0.0179 - acc: 0.9936 - val_loss: 0.0186 - val_acc: 0.9934\n",
          "name": "stdout"
        }
      ]
    },
    {
      "metadata": {
        "trusted": true,
        "_uuid": "6bfcecd5ee791bf41d1f36a71f006af055b43334"
      },
      "cell_type": "code",
      "source": "# evaluate the network\nprint(\"[INFO] evaluating network...\")\npredictions = model.predict(testX, batch_size=32)\nprint(classification_report(testY,\n                            predictions.argmax(axis=1), target_names=labelencoder_y_1.classes_))\n \n# plot the training loss and accuracy\nN = np.arange(0, EPOCHS)\nplt.figure()\nplt.plot(N, h.history[\"loss\"], label=\"train_loss\")\nplt.plot(N, h.history[\"val_loss\"], label=\"val_loss\")\nplt.plot(N, h.history[\"acc\"], label=\"train_acc\")\nplt.plot(N, h.history[\"val_acc\"], label=\"val_acc\")\nplt.title(\"Training Loss and Accuracy (SmallVGGNet)\")\nplt.xlabel(\"Epoch #\")\nplt.ylabel(\"Loss/Accuracy\")\nplt.legend()",
      "execution_count": 128,
      "outputs": [
        {
          "output_type": "stream",
          "text": "[INFO] evaluating network...\n              precision    recall  f1-score   support\n\nnon-vehicles       0.99      0.99      0.99       974\n    vehicles       0.99      0.99      0.99       858\n\n   micro avg       0.99      0.99      0.99      1832\n   macro avg       0.99      0.99      0.99      1832\nweighted avg       0.99      0.99      0.99      1832\n\n",
          "name": "stdout"
        },
        {
          "output_type": "execute_result",
          "execution_count": 128,
          "data": {
            "text/plain": "<matplotlib.legend.Legend at 0x7f783b2f6c88>"
          },
          "metadata": {}
        },
        {
          "output_type": "display_data",
          "data": {
            "text/plain": "<Figure size 432x288 with 1 Axes>",
            "image/png": "[encoded data removed]"
          },
          "metadata": {}
        }
      ]
    },
    {
      "metadata": {
        "trusted": true,
        "_uuid": "4ee7102762a3a28de4fadc8980c21f65fd7fe9e5"
      },
      "cell_type": "code",
      "source": "image = cv2.imread('../input/owncollection/OwnCollection/non-vehicles/Far/image0000.png')\nimage = cv2.resize(image, (64,64))\nimage = image.astype('float') / 255.0\nimage = image.reshape((1, image.shape[0], image.shape[1], image.shape[2]))\nimage.shape",
      "execution_count": 131,
      "outputs": [
        {
          "output_type": "execute_result",
          "execution_count": 131,
          "data": {
            "text/plain": "(1, 64, 64, 3)"
          },
          "metadata": {}
        }
      ]
    },
    {
      "metadata": {
        "trusted": true,
        "_uuid": "1901e537ba5bc3952bbd070a9bae4c389e8b73a4"
      },
      "cell_type": "code",
      "source": "preds = model.predict(image)\ni = preds.argmax(axis=1)[0]\nlabel = labelencoder_y_1.classes_[i]\nprint(preds, label)",
      "execution_count": 132,
      "outputs": [
        {
          "output_type": "stream",
          "text": "[[1.0000000e+00 1.2448259e-12]] non-vehicles\n",
          "name": "stdout"
        }
      ]
    },
    {
      "metadata": {
        "trusted": true,
        "_uuid": "e30dbc3679f7bd350c0a39b3b42f8edbaa1774ec"
      },
      "cell_type": "code",
      "source": "image = cv2.imread('../input/owncollection/OwnCollection/vehicles/Far/image0000.png')\nimage = cv2.resize(image, (64,64))\nimage = image.astype('float') / 255.0\nimage = image.reshape((1, image.shape[0], image.shape[1], image.shape[2]))\nimage.shape",
      "execution_count": 133,
      "outputs": [
        {
          "output_type": "execute_result",
          "execution_count": 133,
          "data": {
            "text/plain": "(1, 64, 64, 3)"
          },
          "metadata": {}
        }
      ]
    },
    {
      "metadata": {
        "trusted": true,
        "_uuid": "6e2ddb494220fe4f485c31fec2d203304fa22ad1"
      },
      "cell_type": "code",
      "source": "preds = model.predict(image)\ni = preds.argmax(axis=1)[0]\nlabel = labelencoder_y_1.classes_[i]\nprint(preds, label)",
      "execution_count": 134,
      "outputs": [
        {
          "output_type": "stream",
          "text": "[[5.344577e-07 9.999995e-01]] vehicles\n",
          "name": "stdout"
        }
      ]
    },
    {
      "metadata": {
        "trusted": true,
        "_uuid": "d9f59a7dedbac4eebd8acf9709a38589771bfa0a"
      },
      "cell_type": "code",
      "source": "# serialize model to JSON\nmodel_json = model.to_json()\nwith open(\"model.json\", \"w\") as json_file:\n    json_file.write(model_json)\n# serialize weights to HDF5\nmodel.save_weights(\"model.h5\")\nprint(\"Saved model to disk\")\n ",
      "execution_count": 135,
      "outputs": [
        {
          "output_type": "stream",
          "text": "Saved model to disk\n",
          "name": "stdout"
        }
      ]
    },
    {
      "metadata": {
        "_kg_hide-output": true,
        "trusted": true,
        "_uuid": "f15e1bba1dfe48e68e177a44c37213ff1ea2a3dd"
      },
      "cell_type": "code",
      "source": "# load json and create model\njson_file = open('model.json', 'r')\nloaded_model_json = json_file.read()\njson_file.close()\nloaded_model = model_from_json(loaded_model_json)\n# load weights into new model\nloaded_model.load_weights(\"model.h5\")\nprint(\"Loaded model from disk\")\n ",
      "execution_count": 139,
      "outputs": [
        {
          "output_type": "stream",
          "text": "Loaded model from disk\n",
          "name": "stdout"
        }
      ]
    },
    {
      "metadata": {
        "trusted": true,
        "_uuid": "858ca8e67bdd5da0d651df1bc2a537194a3a96ad"
      },
      "cell_type": "code",
      "source": "",
      "execution_count": null,
      "outputs": []
    }
  ],
  "metadata": {
    "kernelspec": {
      "display_name": "Python 3",
      "language": "python",
      "name": "python3"
    },
    "language_info": {
      "name": "python",
      "version": "3.6.6",
      "mimetype": "text/x-python",
      "codemirror_mode": {
        "name": "ipython",
        "version": 3
      },
      "pygments_lexer": "ipython3",
      "nbconvert_exporter": "python",
      "file_extension": ".py"
    }
  },
  "nbformat": 4,
  "nbformat_minor": 1
}